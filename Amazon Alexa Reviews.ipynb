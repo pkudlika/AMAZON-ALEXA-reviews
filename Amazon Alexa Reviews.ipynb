{
 "cells": [
  {
   "cell_type": "markdown",
   "metadata": {},
   "source": [
    "## Reviews Analysis using NLP"
   ]
  },
  {
   "cell_type": "markdown",
   "metadata": {},
   "source": [
    "<img src=\"https://ksassets.timeincuk.net/wp/uploads/sites/54/2017/09/New_Echo_2-920x470.jpg\" width=\"700px\">"
   ]
  },
  {
   "cell_type": "markdown",
   "metadata": {},
   "source": [
    "**Importing some Basic Libraries**"
   ]
  },
  {
   "cell_type": "code",
   "execution_count": null,
   "metadata": {
    "_kg_hide-input": true,
    "id": "ACRkbg6g3pS-"
   },
   "outputs": [],
   "source": [
    "# for basic operations\n",
    "import numpy as np\n",
    "import pandas as pd\n",
    "\n",
    "# for basic visualizations\n",
    "import matplotlib.pyplot as plt\n",
    "import seaborn as sns\n",
    "plt.style.use('fivethirtyeight')\n",
    "\n",
    "# for advanced visualizations\n",
    "import plotly.offline as py\n",
    "from plotly.offline import init_notebook_mode, iplot\n",
    "import plotly.graph_objs as go\n",
    "from plotly import tools\n",
    "init_notebook_mode(connected = True)\n",
    "import plotly.figure_factory as ff\n",
    "\n",
    "# for providing the path\n",
    "import os\n",
    "print(os.listdir('../input/'))"
   ]
  },
  {
   "cell_type": "markdown",
   "metadata": {},
   "source": [
    "**Reading the data**"
   ]
  },
  {
   "cell_type": "code",
   "execution_count": null,
   "metadata": {
    "_kg_hide-input": true,
    "_kg_hide-output": true,
    "id": "2lC3J2Pg4bHc",
    "outputId": "fe748579-c511-420e-cf17-c8e793eebdbe"
   },
   "outputs": [],
   "source": [
    "data = pd.read_csv('../input/amazon_alexa.tsv', delimiter = '\\t', quoting = 3)\n",
    "\n",
    "# getting the shape of the data\n",
    "data.shape"
   ]
  },
  {
   "cell_type": "code",
   "execution_count": null,
   "metadata": {
    "_kg_hide-input": true,
    "id": "KWPiTIxY4mqr",
    "outputId": "add63aa3-26a7-4d1d-caaa-8db8c3279f96"
   },
   "outputs": [],
   "source": [
    "data.head()"
   ]
  },
  {
   "cell_type": "code",
   "execution_count": null,
   "metadata": {
    "_kg_hide-input": true,
    "id": "iz8YXdCY8hhJ",
    "outputId": "97ffcd7a-2dff-4218-9209-bc70307f16d4"
   },
   "outputs": [],
   "source": [
    "# describing the data set\n",
    "\n",
    "data.describe()"
   ]
  },
  {
   "cell_type": "markdown",
   "metadata": {},
   "source": [
    "<img src=\"https://media1.tenor.com/images/3501e9f0ed6f785e3de54ba51e606b00/tenor.gif?itemid=8981276\" width=\"500px\">"
   ]
  },
  {
   "cell_type": "code",
   "execution_count": null,
   "metadata": {
    "id": "6gtm_PY48b2X",
    "outputId": "ae2c9a35-3429-4db3-9df9-a351478681fa"
   },
   "outputs": [],
   "source": [
    "# checking if there is any null data or not\n",
    "\n",
    "data.isnull().any().any()"
   ]
  },
  {
   "cell_type": "markdown",
   "metadata": {},
   "source": [
    "**Describing the data according to the Length of the reviews**"
   ]
  },
  {
   "cell_type": "code",
   "execution_count": null,
   "metadata": {
    "_kg_hide-input": true,
    "id": "QV-QLgfF4tFp",
    "outputId": "cf75cc7b-01eb-44e4-8b21-11d5a4b4135b"
   },
   "outputs": [],
   "source": [
    "# adding a length column for analyzing the length of the reviews\n",
    "\n",
    "data['length'] = data['verified_reviews'].apply(len)\n",
    "\n",
    "data.groupby('length').describe().sample(10)"
   ]
  },
  {
   "cell_type": "markdown",
   "metadata": {},
   "source": [
    "**Describing the data according to the ratings**"
   ]
  },
  {
   "cell_type": "code",
   "execution_count": null,
   "metadata": {
    "_kg_hide-input": true,
    "id": "ipRQtk-H54sG",
    "outputId": "3649ab45-38ea-4338-c95f-14ff365a910e"
   },
   "outputs": [],
   "source": [
    "data.groupby('rating').describe()"
   ]
  },
  {
   "cell_type": "markdown",
   "metadata": {},
   "source": [
    "**Describing the data according to the feedback**"
   ]
  },
  {
   "cell_type": "code",
   "execution_count": null,
   "metadata": {
    "_kg_hide-input": true,
    "id": "ppb0iP5M6I9M",
    "outputId": "ada65026-e4be-49e7-edbe-8d569d63fcb9"
   },
   "outputs": [],
   "source": [
    "data.groupby('feedback').describe()"
   ]
  },
  {
   "cell_type": "markdown",
   "metadata": {},
   "source": [
    "## Data Visualizations"
   ]
  },
  {
   "cell_type": "code",
   "execution_count": null,
   "metadata": {
    "_kg_hide-input": true,
    "id": "3-Eo4ZFw6bZW",
    "outputId": "ea237936-b2b6-496e-82f7-29ca8be6a4dc"
   },
   "outputs": [],
   "source": [
    "ratings = data['rating'].value_counts()\n",
    "\n",
    "label_rating = ratings.index\n",
    "size_rating = ratings.values\n",
    "\n",
    "colors = ['pink', 'lightblue', 'aqua', 'gold', 'crimson']\n",
    "\n",
    "rating_piechart = go.Pie(labels = label_rating,\n",
    "                         values = size_rating,\n",
    "                         marker = dict(colors = colors),\n",
    "                         name = 'Alexa', hole = 0.3)\n",
    "\n",
    "df = [rating_piechart]\n",
    "\n",
    "layout = go.Layout(\n",
    "           title = 'Distribution of Ratings for Alexa')\n",
    "\n",
    "fig = go.Figure(data = df,\n",
    "                 layout = layout)\n",
    "\n",
    "py.iplot(fig)"
   ]
  },
  {
   "cell_type": "markdown",
   "metadata": {},
   "source": [
    "> By looking at the above pie chart, we can infer that most of the Ratings are good for alexa. Around 72.6% people have given Alexa 5 Star rating, which is very good. 14.4% people have given Alexa a 4 Star Rating, which is also good. that means 72.6+14.4 = 87% people have given alexa good rating.\n",
    ">> 4.38% people have given alexa an average rating of 3 stars.\n",
    ">> 3.05% people did not like alexa and chose to give only 2 star ratings to alexa whereas 5.11% people hated alexa and decided to give alexa only 1 Star Rating. This a total of 3.05+5.11 = 8.16% people did not like alexa."
   ]
  },
  {
   "cell_type": "code",
   "execution_count": null,
   "metadata": {
    "_kg_hide-input": true,
    "id": "4Oi5KuQX6zPi",
    "outputId": "0668cabf-2213-4c54-ca4a-2cf4fd303d37"
   },
   "outputs": [],
   "source": [
    "\n",
    "color = plt.cm.copper(np.linspace(0, 1, 15))\n",
    "data['variation'].value_counts().plot.bar(color = color, figsize = (15, 9))\n",
    "plt.title('Distribution of Variations in Alexa', fontsize = 20)\n",
    "plt.xlabel('variations')\n",
    "plt.ylabel('count')\n",
    "plt.show()"
   ]
  },
  {
   "cell_type": "markdown",
   "metadata": {},
   "source": [
    "> The above Bar plot, plots the different Variatios of Amazon Alexa with their popularity or no. of counts. It is quite clear that Black Dot is the most popular variation of Amazon Alexa with more than 500 units out of 3150 samples, which is really good.\n",
    ">> Charcoal Fabric and Configuration: Fire TV Stick are also good and very much popular after Black dot.\n",
    ">> Whereas Oak Fish and Walnut Finish are very Unpopular with less than 10 entries."
   ]
  },
  {
   "cell_type": "code",
   "execution_count": null,
   "metadata": {
    "_kg_hide-input": true,
    "id": "c_u3b0RM7GR0",
    "outputId": "1b9620a6-f5ac-4ddf-a588-00bda6ddd46b"
   },
   "outputs": [],
   "source": [
    "feedbacks = data['feedback'].value_counts()\n",
    "\n",
    "label_feedback = feedbacks.index\n",
    "size_feedback = feedbacks.values\n",
    "\n",
    "colors = ['yellow', 'lightgreen']\n",
    "\n",
    "feedback_piechart = go.Pie(labels = label_feedback,\n",
    "                         values = size_feedback,\n",
    "                         marker = dict(colors = colors),\n",
    "                         name = 'Alexa', hole = 0.3)\n",
    "\n",
    "df2 = [feedback_piechart]\n",
    "\n",
    "layout = go.Layout(\n",
    "           title = 'Distribution of Feedbacks for Alexa')\n",
    "\n",
    "fig = go.Figure(data = df2,\n",
    "                 layout = layout)\n",
    "\n",
    "py.iplot(fig)"
   ]
  },
  {
   "cell_type": "markdown",
   "metadata": {},
   "source": [
    "> Here again we are going to analyze the Pie Chart representing the Distribution of feedback for Amazon Alexa which says that around 92% people gave a positive feedback to Amazon Alexa and only 8% people gave negative feedback to Amazon Alexa. This Suggests that Amazon Alexa is a popular product amongst so many people and only few people did not like it for some unforeseeable factors."
   ]
  },
  {
   "cell_type": "code",
   "execution_count": null,
   "metadata": {
    "_kg_hide-input": true,
    "id": "d7L_q9T07Z4X",
    "outputId": "d5074112-760b-406f-b243-b28320da7eaf"
   },
   "outputs": [],
   "source": [
    "\n",
    "data['length'].value_counts().plot.hist(color = 'skyblue', figsize = (15, 5), bins = 50)\n",
    "plt.title('Distribution of Length in Reviews')\n",
    "plt.xlabel('lengths')\n",
    "plt.ylabel('count')\n",
    "plt.show()"
   ]
  },
  {
   "cell_type": "markdown",
   "metadata": {},
   "source": [
    "> The above Distribution Plot, shows a distribution of Length of the Reviews written by the people. This is to show on an average what is the length of the reviews written by the people for amazon alexa. Most of the Reviews are so short that is only One or Two words longer. We can see that most people write reviwes that is 5-20 words longer.\n",
    ">> Very few people write longer reviews such as 70-80 words."
   ]
  },
  {
   "cell_type": "markdown",
   "metadata": {},
   "source": [
    "**Let's Check some of the reviews according to thier lengths**"
   ]
  },
  {
   "cell_type": "code",
   "execution_count": null,
   "metadata": {
    "_kg_hide-input": true,
    "id": "QvLLwWD-7zgn",
    "outputId": "3d746690-ede6-441e-8f70-2e1493956b68"
   },
   "outputs": [],
   "source": [
    "data[data['length'] == 1]['verified_reviews'].iloc[0]"
   ]
  },
  {
   "cell_type": "code",
   "execution_count": null,
   "metadata": {
    "_kg_hide-input": true,
    "id": "jFOAsW0z-JIo",
    "outputId": "5a25f219-9d53-400b-e7c6-d98fd5bc41a9"
   },
   "outputs": [],
   "source": [
    "data[data['length'] == 21]['verified_reviews'].iloc[0]"
   ]
  },
  {
   "cell_type": "code",
   "execution_count": null,
   "metadata": {
    "_kg_hide-input": true,
    "id": "Zi-SpidL-ULv",
    "outputId": "68e77fcf-a4b8-40c3-c91c-c84d3e663b55"
   },
   "outputs": [],
   "source": [
    "data[data['length'] == 50]['verified_reviews'].iloc[0]"
   ]
  },
  {
   "cell_type": "code",
   "execution_count": null,
   "metadata": {
    "_kg_hide-input": true,
    "id": "MJgU_Vz29dQC",
    "outputId": "55de6aeb-ef13-4bf9-a18e-93b854dd1745"
   },
   "outputs": [],
   "source": [
    "data[data['length'] == 150]['verified_reviews'].iloc[0]"
   ]
  },
  {
   "cell_type": "code",
   "execution_count": null,
   "metadata": {
    "_kg_hide-input": true,
    "id": "5Lhj9SGn_DDj",
    "outputId": "4148246d-be6c-46be-fb2e-a267fe6de082"
   },
   "outputs": [],
   "source": [
    "plt.rcParams['figure.figsize'] = (15, 9)\n",
    "plt.style.use('fivethirtyeight')\n",
    "\n",
    "sns.boxenplot(data['variation'], data['rating'], palette = 'spring')\n",
    "plt.title(\"Variation vs Ratings\")\n",
    "plt.xticks(rotation = 90)\n",
    "plt.show()"
   ]
  },
  {
   "cell_type": "markdown",
   "metadata": {},
   "source": [
    "> The above Bivariate plot, which plots Variation and ratings to check which of the Variation of Amazon Alexa has been perfoeming best in terms of ratings.\n",
    ">> Walnut finish and Oak Finish have very high ratings, the ratings rangee from 4.5 to 5 which is really impressive, These variation are rare and have high reviews.\n",
    ">>> White and Black Variations for Amazon Alexa have low ratings also, as it is the most common variation available for the product that is the reason, why it has ratings varying from 0 to 5."
   ]
  },
  {
   "cell_type": "code",
   "execution_count": null,
   "metadata": {},
   "outputs": [],
   "source": [
    "plt.rcParams['figure.figsize'] = (15, 9)\n",
    "plt.style.use('fivethirtyeight')\n",
    "\n",
    "sns.swarmplot(data['variation'], data['length'], palette = 'deep')\n",
    "plt.title(\"Variation vs Length of Ratings\")\n",
    "plt.xticks(rotation = 90)\n",
    "plt.show()"
   ]
  },
  {
   "cell_type": "markdown",
   "metadata": {},
   "source": [
    ">> The above Bivariate plot shows swarmplot between Variation in Amazon Alexa and Length of the Reviews. We would like to see for which of the model variations of Amaozn Alexa people have written the longest reviews.\n",
    ">> By looking at the graph, we can easily spot that the longest review was written for Black Plus.\n",
    ">> then Black Spot has two long reviews and Black, and Black plus variation also has a very long review.\n",
    ">> we might conclude that the longest reviews are all written for the Black-type variations in Amazon Alexa."
   ]
  },
  {
   "cell_type": "code",
   "execution_count": null,
   "metadata": {
    "_kg_hide-input": true,
    "id": "im7MUVGWBx-z",
    "outputId": "e7d63cc8-5f6f-40a8-ea5e-41e0ebe8ead2"
   },
   "outputs": [],
   "source": [
    "import warnings\n",
    "warnings.filterwarnings('ignore')\n",
    "\n",
    "plt.rcParams['figure.figsize'] = (12, 7)\n",
    "plt.style.use('fivethirtyeight')\n",
    "\n",
    "sns.violinplot(data['feedback'], data['rating'], palette = 'cool')\n",
    "plt.title(\"feedback wise Mean Ratings\")\n",
    "plt.show()"
   ]
  },
  {
   "cell_type": "markdown",
   "metadata": {},
   "source": [
    "> The above Bi-variate plot, shows a violin plot between Feedback and Rating, We can easily conclude that the Products which have 0 feedback have lower ratings ranging from 1 to 2 (more probably Rating is 1) whereas for the products having a feedback value 1, has ratings ranging from 3 to 5(more probably rating is 5)."
   ]
  },
  {
   "cell_type": "code",
   "execution_count": null,
   "metadata": {
    "_kg_hide-input": true,
    "id": "Xh4jhn-bCExj",
    "outputId": "53c7b640-2c90-4179-dee8-bbfd4ce5d4b1"
   },
   "outputs": [],
   "source": [
    "import warnings\n",
    "warnings.filterwarnings('ignore')\n",
    "\n",
    "plt.rcParams['figure.figsize'] = (12, 7)\n",
    "plt.style.use('fivethirtyeight')\n",
    "\n",
    "sns.boxplot(data['rating'], data['length'], palette = 'Blues')\n",
    "plt.title(\"Length vs Ratings\")\n",
    "plt.show()"
   ]
  },
  {
   "cell_type": "markdown",
   "metadata": {},
   "source": [
    "> The above Bivariate plot shows a plot between Rating and Length, We would like to that how much a user is gonna write if he/she is going to give a low rating or a high rating to the product.\n",
    ">> We can see that most of the people who gave 5 star rating to Alexa wrote a very small review in comparison to the people who did not give alexa a 5 star rating. But, the longest reviews are written for the 5 star ratings only.\n",
    ">> The people who gave alexa, a low rating such as 1 or 2 star rating did not consider writing a longer review maybe because they do not like the product."
   ]
  },
  {
   "cell_type": "code",
   "execution_count": null,
   "metadata": {
    "_kg_hide-input": true,
    "id": "E_-iB8cOCYkT",
    "outputId": "e97495b7-7064-4113-93b4-cd13fa2bdf8c"
   },
   "outputs": [],
   "source": [
    "from sklearn.feature_extraction.text import CountVectorizer\n",
    "\n",
    "\n",
    "cv = CountVectorizer(stop_words = 'english')\n",
    "words = cv.fit_transform(data.verified_reviews)\n",
    "sum_words = words.sum(axis=0)\n",
    "\n",
    "\n",
    "words_freq = [(word, sum_words[0, idx]) for word, idx in cv.vocabulary_.items()]\n",
    "words_freq = sorted(words_freq, key = lambda x: x[1], reverse = True)\n",
    "frequency = pd.DataFrame(words_freq, columns=['word', 'freq'])\n",
    "\n",
    "plt.style.use('fivethirtyeight')\n",
    "color = plt.cm.ocean(np.linspace(0, 1, 20))\n",
    "frequency.head(20).plot(x='word', y='freq', kind='bar', figsize=(15, 6), color = color)\n",
    "plt.title(\"Most Frequently Occuring Words - Top 20\")\n",
    "plt.show()"
   ]
  },
  {
   "cell_type": "markdown",
   "metadata": {},
   "source": [
    "> The Above Bar plot represents the most frequnt words in the reviews so that we can get a rough idea about the reviews and what people think of the product.\n",
    ">> We can see that love is the most frequent word in the word suggesting that most of the people absolutely love alexa. Other frequent words that suggest alexa is doing well are amazing, like, great, works etc.\n"
   ]
  },
  {
   "cell_type": "code",
   "execution_count": null,
   "metadata": {
    "_kg_hide-input": true,
    "id": "qq4rqKyHSHgC",
    "outputId": "462b5326-6a2c-4f5e-afe1-203c8fa466c6"
   },
   "outputs": [],
   "source": [
    "from wordcloud import WordCloud\n",
    "\n",
    "wordcloud = WordCloud(background_color = 'lightcyan', width = 2000, height = 2000).generate_from_frequencies(dict(words_freq))\n",
    "\n",
    "plt.style.use('fivethirtyeight')\n",
    "plt.figure(figsize=(10, 10))\n",
    "plt.axis('off')\n",
    "plt.imshow(wordcloud)\n",
    "plt.title(\"Vocabulary from Reviews\", fontsize = 20)\n",
    "plt.show()"
   ]
  },
  {
   "cell_type": "markdown",
   "metadata": {},
   "source": [
    "> Plotting a wordscloud for the Words to see all the words, The Larger the words the larger is the frequency for that word. "
   ]
  },
  {
   "cell_type": "code",
   "execution_count": null,
   "metadata": {
    "_kg_hide-input": true
   },
   "outputs": [],
   "source": [
    "import warnings\n",
    "warnings.filterwarnings('ignore')\n",
    "\n",
    "plt.rcParams['figure.figsize'] = (12, 7)\n",
    "plt.style.use('fivethirtyeight')\n",
    "\n",
    "sns.stripplot(data['feedback'], data['length'], palette = 'Reds')\n",
    "plt.title(\"Feedback vs Length\")\n",
    "plt.show()"
   ]
  },
  {
   "cell_type": "markdown",
   "metadata": {},
   "source": [
    "### Ratings vs Length vs Variation"
   ]
  },
  {
   "cell_type": "code",
   "execution_count": null,
   "metadata": {
    "_kg_hide-input": true
   },
   "outputs": [],
   "source": [
    "trace = go.Scatter3d(\n",
    "    x = data['length'],\n",
    "    y = data['rating'],\n",
    "    z = data['variation'],\n",
    "    name = 'Amazon Alexa',\n",
    "    mode='markers',\n",
    "    marker=dict(\n",
    "        size=10,\n",
    "        color = data['rating'],\n",
    "        colorscale = 'Viridis',\n",
    "    )\n",
    ")\n",
    "df = [trace]\n",
    "\n",
    "layout = go.Layout(\n",
    "    title = 'Length vs Variation vs Ratings',\n",
    "    margin=dict(\n",
    "        l=0,\n",
    "        r=0,\n",
    "        b=0,\n",
    "        t=0  \n",
    "    )\n",
    "    \n",
    ")\n",
    "fig = go.Figure(data = df, layout = \n",
    "                layout)\n",
    "iplot(fig)"
   ]
  },
  {
   "cell_type": "markdown",
   "metadata": {},
   "source": [
    "## Spacy"
   ]
  },
  {
   "cell_type": "code",
   "execution_count": null,
   "metadata": {
    "_kg_hide-input": true
   },
   "outputs": [],
   "source": [
    "import spacy\n",
    "nlp = spacy.load('en')\n",
    "\n",
    "def explain_text_entities(text):\n",
    "    doc = nlp(text)\n",
    "    for ent in doc.ents:\n",
    "        print(f'Entity: {ent}, Label: {ent.label_}, {spacy.explain(ent.label_)}')\n",
    "        \n",
    "for i in range(15, 50):\n",
    "    one_sentence = data['verified_reviews'][i]\n",
    "    doc = nlp(one_sentence)\n",
    "    spacy.displacy.render(doc, style='ent',jupyter=True)\n"
   ]
  },
  {
   "cell_type": "code",
   "execution_count": null,
   "metadata": {
    "id": "E2qiQGxEEZmU",
    "outputId": "91c3a458-a5de-4f32-a9a0-bf4f5a96661a"
   },
   "outputs": [],
   "source": [
    "# cleaning the texts\n",
    "# importing the libraries for Natural Language Processing\n",
    "\n",
    "import re\n",
    "import nltk\n",
    "nltk.download('stopwords')\n",
    "from nltk.corpus import stopwords\n",
    "from nltk.stem.porter import PorterStemmer\n"
   ]
  },
  {
   "cell_type": "code",
   "execution_count": null,
   "metadata": {
    "id": "fPkTQrXjGQVV"
   },
   "outputs": [],
   "source": [
    "\n",
    "corpus = []\n",
    "\n",
    "for i in range(0, 3150):\n",
    "    review = re.sub('[^a-zA-Z]', ' ', data['verified_reviews'][i])\n",
    "    review = review.lower()\n",
    "    review = review.split()\n",
    "    ps = PorterStemmer()\n",
    "    review = [ps.stem(word) for word in review if not word in set(stopwords.words('english'))]\n",
    "    review = ' '.join(review)\n",
    "    corpus.append(review)\n",
    " "
   ]
  },
  {
   "cell_type": "code",
   "execution_count": null,
   "metadata": {
    "id": "zCewwd25JsN6",
    "outputId": "dd8e61ff-5877-4c06-c2af-4bf743158709"
   },
   "outputs": [],
   "source": [
    "# creating bag of words\n",
    "\n",
    "from sklearn.feature_extraction.text import TfidfVectorizer\n",
    "\n",
    "cv = CountVectorizer(max_features = 2500)\n",
    "\n",
    "x = cv.fit_transform(corpus).toarray()\n",
    "y = data.iloc[:, 4].values\n",
    "\n",
    "print(x.shape)\n",
    "print(y.shape)"
   ]
  },
  {
   "cell_type": "code",
   "execution_count": null,
   "metadata": {
    "id": "moIl_FcHLxaK",
    "outputId": "17aaf0b9-cc80-40b2-95ad-6c51b8ef5b09"
   },
   "outputs": [],
   "source": [
    "from sklearn.model_selection import train_test_split\n",
    "\n",
    "x_train, x_test, y_train, y_test = train_test_split(x, y, test_size = 0.3, random_state = 15)\n",
    "\n",
    "print(x_train.shape)\n",
    "print(y_train.shape)\n",
    "print(x_test.shape)\n",
    "print(y_test.shape)"
   ]
  },
  {
   "cell_type": "code",
   "execution_count": null,
   "metadata": {
    "id": "H0pyR5UOMikz",
    "outputId": "bc147df1-7869-4701-87ec-b44edbb61f87"
   },
   "outputs": [],
   "source": [
    "from sklearn.preprocessing import MinMaxScaler\n",
    "\n",
    "mm = MinMaxScaler()\n",
    "\n",
    "x_train = mm.fit_transform(x_train)\n",
    "x_test = mm.transform(x_test)\n"
   ]
  },
  {
   "cell_type": "markdown",
   "metadata": {},
   "source": [
    "## Modelling"
   ]
  },
  {
   "cell_type": "markdown",
   "metadata": {
    "id": "HdkvOx5WUu8G"
   },
   "source": [
    "**Random Forest**"
   ]
  },
  {
   "cell_type": "code",
   "execution_count": null,
   "metadata": {
    "id": "tdjNh94rM0-V",
    "outputId": "5a76594a-bf43-494a-e64f-07b6a92417eb"
   },
   "outputs": [],
   "source": [
    "from sklearn.ensemble import RandomForestClassifier\n",
    "from sklearn.metrics import confusion_matrix\n",
    "\n",
    "model = RandomForestClassifier()\n",
    "model.fit(x_train, y_train)\n",
    "\n",
    "y_pred = model.predict(x_test)\n",
    "\n",
    "print(\"Training Accuracy :\", model.score(x_train, y_train))\n",
    "print(\"Testing Accuracy :\", model.score(x_test, y_test))\n",
    "\n",
    "cm = confusion_matrix(y_test, y_pred)\n",
    "print(cm)\n"
   ]
  },
  {
   "cell_type": "code",
   "execution_count": null,
   "metadata": {
    "id": "V2UnUDg8NiYu",
    "outputId": "48ff675c-9bf1-4f2b-ba67-423ab08cfb16"
   },
   "outputs": [],
   "source": [
    "# applying k fold cross validation\n",
    "\n",
    "from sklearn.model_selection import cross_val_score\n",
    "accuracies = cross_val_score(estimator = model, X = x_train, y = y_train, cv = 10)\n",
    "\n",
    "print(\"Accuracy :\", accuracies.mean())\n",
    "print(\"Standard Variance :\", accuracies.std())"
   ]
  },
  {
   "cell_type": "code",
   "execution_count": null,
   "metadata": {
    "id": "Ww7F1ltrQIPe"
   },
   "outputs": [],
   "source": [
    "\n",
    "params = {\n",
    "    'bootstrap': [True],\n",
    "    'max_depth': [80, 100],\n",
    "    'min_samples_split': [8, 12],\n",
    "    'n_estimators': [100, 300]\n",
    "}\n"
   ]
  },
  {
   "cell_type": "code",
   "execution_count": null,
   "metadata": {
    "_kg_hide-input": false,
    "_kg_hide-output": true,
    "id": "n_IZsTG5PXuB",
    "outputId": "987f3658-c750-4bef-b0a0-a7f06f751c3b"
   },
   "outputs": [],
   "source": [
    "# applying grid search with stratified folds\n",
    "\n",
    "from sklearn.model_selection import GridSearchCV\n",
    "from sklearn.model_selection import StratifiedKFold\n",
    "\n",
    "cv_object = StratifiedKFold(n_splits = 2)\n",
    "\n",
    "grid = GridSearchCV(estimator = model, param_grid = params, cv = cv_object, verbose = 0, return_train_score = True)\n",
    "grid.fit(x_train, y_train.ravel())"
   ]
  },
  {
   "cell_type": "code",
   "execution_count": null,
   "metadata": {
    "id": "XTAHSzYwSDf5",
    "outputId": "25c972c5-23aa-45f4-8163-e101e4733e28"
   },
   "outputs": [],
   "source": [
    "print(\"Best Parameter Combination : {}\".format(grid.best_params_))"
   ]
  },
  {
   "cell_type": "code",
   "execution_count": null,
   "metadata": {
    "id": "eBtU2d3wSLj4",
    "outputId": "979b11a3-c3a8-48cf-890c-0088e6d7da4e"
   },
   "outputs": [],
   "source": [
    "\n",
    "print(\"Mean Cross Validation Accuracy - Train Set : {}\".format(grid.cv_results_['mean_train_score'].mean()*100))\n",
    "print(\"Mean Cross Validation Accuracy - Validation Set : {}\".format(grid.cv_results_['mean_test_score'].mean()*100))\n",
    "\n",
    "from sklearn.metrics import accuracy_score\n",
    "print(\"Accuracy Score for Test Set :\", accuracy_score(y_test, y_pred))"
   ]
  },
  {
   "cell_type": "markdown",
   "metadata": {},
   "source": [
    "<img src=\"https://theintercept.imgix.net/wp-uploads/sites/1/2018/11/Intercept_Echo_v2-3.5MB-2-1542062294.gif\" width=\"500px\">"
   ]
  },
  {
   "cell_type": "code",
   "execution_count": null,
   "metadata": {},
   "outputs": [],
   "source": [
    "\n",
    "\n",
    "\n",
    "\n",
    "\n",
    "\n",
    "\n",
    "\n",
    "\n",
    "\n",
    "\n",
    "\n",
    "\n",
    "\n",
    "\n",
    "\n",
    "\n",
    "\n",
    "\n",
    "\n",
    "\n",
    "\n",
    "\n",
    "\n",
    "\n",
    "\n",
    "\n",
    "\n",
    "\n",
    "\n",
    "\n",
    "\n",
    "\n",
    "\n",
    "\n",
    "\n",
    "\n",
    "\n",
    "\n",
    "\n",
    "\n",
    "\n",
    "\n",
    "\n",
    "\n",
    "\n",
    "\n",
    "\n",
    "\n",
    "\n",
    "\n",
    "\n",
    "\n",
    "\n",
    "\n",
    "\n",
    "\n",
    "\n",
    "\n",
    "\n",
    "\n",
    "\n",
    "\n",
    "\n",
    "\n",
    "\n",
    "\n",
    "\n",
    "\n",
    "\n",
    "\n",
    "\n",
    "\n",
    "\n",
    "\n",
    "\n",
    "\n",
    "\n",
    "\n",
    "\n",
    "\n",
    "\n",
    "\n",
    "\n",
    "\n",
    "\n",
    "\n",
    "\n",
    "\n",
    "\n",
    "\n",
    "\n",
    "\n",
    "\n",
    "\n",
    "\n",
    "\n",
    "\n",
    "\n",
    "\n",
    "\n",
    "\n",
    "\n",
    "\n",
    "\n"
   ]
  }
 ],
 "metadata": {
  "kernelspec": {
   "display_name": "Python 3",
   "language": "python",
   "name": "python3"
  },
  "language_info": {
   "codemirror_mode": {
    "name": "ipython",
    "version": 3
   },
   "file_extension": ".py",
   "mimetype": "text/x-python",
   "name": "python",
   "nbconvert_exporter": "python",
   "pygments_lexer": "ipython3",
   "version": "3.6.10"
  }
 },
 "nbformat": 4,
 "nbformat_minor": 4
}
